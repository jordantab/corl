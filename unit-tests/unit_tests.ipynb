{
 "cells": [
  {
   "cell_type": "code",
   "execution_count": 17,
   "id": "6e99bd68",
   "metadata": {},
   "outputs": [],
   "source": [
    "import subprocess\n",
    "import tempfile\n",
    "import os\n",
    "import pandas as pd\n",
    "import time\n",
    "import glob"
   ]
  },
  {
   "cell_type": "code",
   "execution_count": 23,
   "id": "bf2d7669",
   "metadata": {},
   "outputs": [],
   "source": [
    "def run_cpp_code_with_file_input(code: str, input_file_path: str) -> str:\n",
    "    # Create a temporary directory to hold the C++ file and executable\n",
    "    with tempfile.TemporaryDirectory() as temp_dir:\n",
    "        cpp_file_path = os.path.join(temp_dir, \"code.cpp\")\n",
    "        executable_path = os.path.join(temp_dir, \"code\")\n",
    "        \n",
    "        # Write the C++ code to a file\n",
    "        with open(cpp_file_path, \"w\") as cpp_file:\n",
    "            cpp_file.write(code)\n",
    "        \n",
    "        # Compile the C++ code\n",
    "        compile_process = subprocess.run([\"g++\", cpp_file_path, \"-o\", executable_path], capture_output=True, text=True)\n",
    "        if compile_process.returncode != 0:\n",
    "            # Compilation failed\n",
    "            return f\"Compilation Failed:\\n{compile_process.stderr}\"\n",
    "        \n",
    "        # Run the compiled executable with input redirected from the input file\n",
    "        start_time = time.time()\n",
    "        with open(input_file_path, 'r') as input_file:\n",
    "            run_process = subprocess.run(executable_path, stdin=input_file, capture_output=True, text=True, universal_newlines=True)\n",
    "            if run_process.returncode != 0:\n",
    "                # Runtime error\n",
    "                return f\"Runtime Error:\\n{run_process.stderr}\"\n",
    "        end_time = time.time()\n",
    "        return run_process.stdout, (end_time - start_time)\n",
    "\n",
    "\n",
    "def eval_output(output: str, expected_output_file: str) -> bool:\n",
    "    with open(expected_output_file, 'r') as expected_file:\n",
    "        expected_output = expected_file.read()\n",
    "        return output.strip() == expected_output.strip()\n",
    "    \n",
    "\n",
    "def run_tcs(code: str, sample_output_folder: str, hidden_output_folder) -> bool:\n",
    "    for folder in [sample_output_folder, hidden_output_folder]:\n",
    "        input_files = glob.glob(os.path.join(folder, \"input.*.txt\"))\n",
    "        for input_file in input_files:\n",
    "            # print('processing:', input_file)\n",
    "            expected_output_file = input_file.replace('input', 'output')  # Assuming expected output file naming convention\n",
    "            actual_output, time = run_cpp_code_with_file_input(code, input_file)\n",
    "            if actual_output is None or not eval_output(actual_output, expected_output_file):\n",
    "                print('Failed on test case', input_file)\n",
    "                return False\n",
    "    \n",
    "    return True "
   ]
  },
  {
   "cell_type": "code",
   "execution_count": 3,
   "id": "f36ff9c1",
   "metadata": {},
   "outputs": [],
   "source": [
    "df = pd.read_csv(\"../datasets/improvement_pairs_additional_metadata.csv\", sep=\"\\t\")"
   ]
  },
  {
   "cell_type": "code",
   "execution_count": 4,
   "id": "635393a2",
   "metadata": {},
   "outputs": [],
   "source": [
    "# Assuming 'input.txt' is a file in the current directory containing the input for the C++ program\n",
    "input_file_path = '../datasets/codenet/public_test_cases/p00849/input.0.txt'\n",
    "sample_code = df.at[3, 'code_v1']"
   ]
  },
  {
   "cell_type": "code",
   "execution_count": 15,
   "id": "e9f2e7d9",
   "metadata": {},
   "outputs": [
    {
     "name": "stdout",
     "output_type": "stream",
     "text": [
      "total time: 0.46 seconds\n",
      "True\n"
     ]
    }
   ],
   "source": [
    "output, tot_time = run_cpp_code_with_file_input(sample_code, input_file_path)\n",
    "print(f\"total time: {tot_time:.2f} seconds\")\n",
    "print(eval_output(output, '../datasets/codenet/public_test_cases/p00849/output.0.txt'))"
   ]
  },
  {
   "cell_type": "code",
   "execution_count": 16,
   "id": "e90299a2",
   "metadata": {},
   "outputs": [
    {
     "name": "stdout",
     "output_type": "stream",
     "text": [
      "      user_id problem_id language submission_id_v0 submission_id_v1  \\\n",
      "0  u116766943     p00849      C++       s624998539       s546809015   \n",
      "1  u116766943     p00849      C++       s546809015       s829771916   \n",
      "2  u116766943     p00849      C++       s812631681       s154463767   \n",
      "3  u116766943     p00849      C++       s363969251       s061168313   \n",
      "4  u116766943     p00849      C++       s061168313       s755775167   \n",
      "\n",
      "   cpu_time_v0  cpu_time_v1  memory_v0  memory_v1            status_v0  \\\n",
      "0       9370.0       9250.0     1232.0     1228.0  Time Limit Exceeded   \n",
      "1       9250.0       8780.0     1228.0     1228.0  Time Limit Exceeded   \n",
      "2       8700.0       8030.0     1232.0     1232.0  Time Limit Exceeded   \n",
      "3       8500.0        920.0     1252.0    12164.0  Time Limit Exceeded   \n",
      "4        920.0        420.0    12164.0     9780.0             Accepted   \n",
      "\n",
      "             status_v1  improvement_frac  \\\n",
      "0  Time Limit Exceeded              1.28   \n",
      "1  Time Limit Exceeded              5.08   \n",
      "2  Time Limit Exceeded              7.70   \n",
      "3             Accepted             89.18   \n",
      "4             Accepted             54.35   \n",
      "\n",
      "                                             code_v0  \\\n",
      "0  #include<bits/stdc++.h>\\n\\n\\n\\n#define REP(i,s...   \n",
      "1  #include<bits/stdc++.h>\\n\\n\\n\\n#define REP(i,s...   \n",
      "2  #include<bits/stdc++.h>\\n\\n\\n\\n#define REP(i,s...   \n",
      "3  #include<bits/stdc++.h>\\n\\n\\n\\n#define REP(i,s...   \n",
      "4  #include<bits/stdc++.h>\\n\\n\\n\\n#define REP(i,s...   \n",
      "\n",
      "                                             code_v1  code_v0_loc  code_v1_loc  \n",
      "0  #include<bits/stdc++.h>\\n\\n\\n\\n#define REP(i,s...        122.0        127.0  \n",
      "1  #include<bits/stdc++.h>\\n\\n\\n\\n#define REP(i,s...        127.0        125.0  \n",
      "2  #include<bits/stdc++.h>\\n\\n\\n\\n#define REP(i,s...        144.0        144.0  \n",
      "3  #include<bits/stdc++.h>\\n\\n\\n\\n#define REP(i,s...        145.0        214.0  \n",
      "4  #include<bits/stdc++.h>\\n\\n\\n\\n#define REP(i,s...        214.0        178.0  \n"
     ]
    }
   ],
   "source": [
    "print(df.head())"
   ]
  },
  {
   "cell_type": "code",
   "execution_count": 24,
   "id": "672e652a",
   "metadata": {},
   "outputs": [
    {
     "ename": "KeyboardInterrupt",
     "evalue": "",
     "output_type": "error",
     "traceback": [
      "\u001b[0;31m---------------------------------------------------------------------------\u001b[0m",
      "\u001b[0;31mKeyboardInterrupt\u001b[0m                         Traceback (most recent call last)",
      "Cell \u001b[0;32mIn[24], line 1\u001b[0m\n\u001b[0;32m----> 1\u001b[0m \u001b[38;5;28mprint\u001b[39m(\u001b[43mrun_tcs\u001b[49m\u001b[43m(\u001b[49m\u001b[43msample_code\u001b[49m\u001b[43m,\u001b[49m\u001b[43m \u001b[49m\u001b[38;5;124;43m\"\u001b[39;49m\u001b[38;5;124;43m../datasets/codenet/public_test_cases/p00848/\u001b[39;49m\u001b[38;5;124;43m\"\u001b[39;49m\u001b[43m,\u001b[49m\u001b[43m \u001b[49m\u001b[38;5;124;43m\"\u001b[39;49m\u001b[38;5;124;43m\"\u001b[39;49m\u001b[43m)\u001b[49m)\n",
      "Cell \u001b[0;32mIn[23], line 41\u001b[0m, in \u001b[0;36mrun_tcs\u001b[0;34m(code, sample_output_folder, hidden_output_folder)\u001b[0m\n\u001b[1;32m     38\u001b[0m \u001b[38;5;28;01mfor\u001b[39;00m input_file \u001b[38;5;129;01min\u001b[39;00m input_files:\n\u001b[1;32m     39\u001b[0m     \u001b[38;5;66;03m# print('processing:', input_file)\u001b[39;00m\n\u001b[1;32m     40\u001b[0m     expected_output_file \u001b[38;5;241m=\u001b[39m input_file\u001b[38;5;241m.\u001b[39mreplace(\u001b[38;5;124m'\u001b[39m\u001b[38;5;124minput\u001b[39m\u001b[38;5;124m'\u001b[39m, \u001b[38;5;124m'\u001b[39m\u001b[38;5;124moutput\u001b[39m\u001b[38;5;124m'\u001b[39m)  \u001b[38;5;66;03m# Assuming expected output file naming convention\u001b[39;00m\n\u001b[0;32m---> 41\u001b[0m     actual_output, time \u001b[38;5;241m=\u001b[39m \u001b[43mrun_cpp_code_with_file_input\u001b[49m\u001b[43m(\u001b[49m\u001b[43mcode\u001b[49m\u001b[43m,\u001b[49m\u001b[43m \u001b[49m\u001b[43minput_file\u001b[49m\u001b[43m)\u001b[49m\n\u001b[1;32m     42\u001b[0m     \u001b[38;5;28;01mif\u001b[39;00m actual_output \u001b[38;5;129;01mis\u001b[39;00m \u001b[38;5;28;01mNone\u001b[39;00m \u001b[38;5;129;01mor\u001b[39;00m \u001b[38;5;129;01mnot\u001b[39;00m eval_output(actual_output, expected_output_file):\n\u001b[1;32m     43\u001b[0m         \u001b[38;5;28mprint\u001b[39m(\u001b[38;5;124m'\u001b[39m\u001b[38;5;124mFailed on test case\u001b[39m\u001b[38;5;124m'\u001b[39m, input_file)\n",
      "Cell \u001b[0;32mIn[23], line 20\u001b[0m, in \u001b[0;36mrun_cpp_code_with_file_input\u001b[0;34m(code, input_file_path)\u001b[0m\n\u001b[1;32m     18\u001b[0m start_time \u001b[38;5;241m=\u001b[39m time\u001b[38;5;241m.\u001b[39mtime()\n\u001b[1;32m     19\u001b[0m \u001b[38;5;28;01mwith\u001b[39;00m \u001b[38;5;28mopen\u001b[39m(input_file_path, \u001b[38;5;124m'\u001b[39m\u001b[38;5;124mr\u001b[39m\u001b[38;5;124m'\u001b[39m) \u001b[38;5;28;01mas\u001b[39;00m input_file:\n\u001b[0;32m---> 20\u001b[0m     run_process \u001b[38;5;241m=\u001b[39m \u001b[43msubprocess\u001b[49m\u001b[38;5;241;43m.\u001b[39;49m\u001b[43mrun\u001b[49m\u001b[43m(\u001b[49m\u001b[43mexecutable_path\u001b[49m\u001b[43m,\u001b[49m\u001b[43m \u001b[49m\u001b[43mstdin\u001b[49m\u001b[38;5;241;43m=\u001b[39;49m\u001b[43minput_file\u001b[49m\u001b[43m,\u001b[49m\u001b[43m \u001b[49m\u001b[43mcapture_output\u001b[49m\u001b[38;5;241;43m=\u001b[39;49m\u001b[38;5;28;43;01mTrue\u001b[39;49;00m\u001b[43m,\u001b[49m\u001b[43m \u001b[49m\u001b[43mtext\u001b[49m\u001b[38;5;241;43m=\u001b[39;49m\u001b[38;5;28;43;01mTrue\u001b[39;49;00m\u001b[43m,\u001b[49m\u001b[43m \u001b[49m\u001b[43muniversal_newlines\u001b[49m\u001b[38;5;241;43m=\u001b[39;49m\u001b[38;5;28;43;01mTrue\u001b[39;49;00m\u001b[43m)\u001b[49m\n\u001b[1;32m     21\u001b[0m     \u001b[38;5;28;01mif\u001b[39;00m run_process\u001b[38;5;241m.\u001b[39mreturncode \u001b[38;5;241m!=\u001b[39m \u001b[38;5;241m0\u001b[39m:\n\u001b[1;32m     22\u001b[0m         \u001b[38;5;66;03m# Runtime error\u001b[39;00m\n\u001b[1;32m     23\u001b[0m         \u001b[38;5;28;01mreturn\u001b[39;00m \u001b[38;5;124mf\u001b[39m\u001b[38;5;124m\"\u001b[39m\u001b[38;5;124mRuntime Error:\u001b[39m\u001b[38;5;130;01m\\n\u001b[39;00m\u001b[38;5;132;01m{\u001b[39;00mrun_process\u001b[38;5;241m.\u001b[39mstderr\u001b[38;5;132;01m}\u001b[39;00m\u001b[38;5;124m\"\u001b[39m\n",
      "File \u001b[0;32m/Library/Frameworks/Python.framework/Versions/3.10/lib/python3.10/subprocess.py:503\u001b[0m, in \u001b[0;36mrun\u001b[0;34m(input, capture_output, timeout, check, *popenargs, **kwargs)\u001b[0m\n\u001b[1;32m    501\u001b[0m \u001b[38;5;28;01mwith\u001b[39;00m Popen(\u001b[38;5;241m*\u001b[39mpopenargs, \u001b[38;5;241m*\u001b[39m\u001b[38;5;241m*\u001b[39mkwargs) \u001b[38;5;28;01mas\u001b[39;00m process:\n\u001b[1;32m    502\u001b[0m     \u001b[38;5;28;01mtry\u001b[39;00m:\n\u001b[0;32m--> 503\u001b[0m         stdout, stderr \u001b[38;5;241m=\u001b[39m \u001b[43mprocess\u001b[49m\u001b[38;5;241;43m.\u001b[39;49m\u001b[43mcommunicate\u001b[49m\u001b[43m(\u001b[49m\u001b[38;5;28;43minput\u001b[39;49m\u001b[43m,\u001b[49m\u001b[43m \u001b[49m\u001b[43mtimeout\u001b[49m\u001b[38;5;241;43m=\u001b[39;49m\u001b[43mtimeout\u001b[49m\u001b[43m)\u001b[49m\n\u001b[1;32m    504\u001b[0m     \u001b[38;5;28;01mexcept\u001b[39;00m TimeoutExpired \u001b[38;5;28;01mas\u001b[39;00m exc:\n\u001b[1;32m    505\u001b[0m         process\u001b[38;5;241m.\u001b[39mkill()\n",
      "File \u001b[0;32m/Library/Frameworks/Python.framework/Versions/3.10/lib/python3.10/subprocess.py:1152\u001b[0m, in \u001b[0;36mPopen.communicate\u001b[0;34m(self, input, timeout)\u001b[0m\n\u001b[1;32m   1149\u001b[0m     endtime \u001b[38;5;241m=\u001b[39m \u001b[38;5;28;01mNone\u001b[39;00m\n\u001b[1;32m   1151\u001b[0m \u001b[38;5;28;01mtry\u001b[39;00m:\n\u001b[0;32m-> 1152\u001b[0m     stdout, stderr \u001b[38;5;241m=\u001b[39m \u001b[38;5;28;43mself\u001b[39;49m\u001b[38;5;241;43m.\u001b[39;49m\u001b[43m_communicate\u001b[49m\u001b[43m(\u001b[49m\u001b[38;5;28;43minput\u001b[39;49m\u001b[43m,\u001b[49m\u001b[43m \u001b[49m\u001b[43mendtime\u001b[49m\u001b[43m,\u001b[49m\u001b[43m \u001b[49m\u001b[43mtimeout\u001b[49m\u001b[43m)\u001b[49m\n\u001b[1;32m   1153\u001b[0m \u001b[38;5;28;01mexcept\u001b[39;00m \u001b[38;5;167;01mKeyboardInterrupt\u001b[39;00m:\n\u001b[1;32m   1154\u001b[0m     \u001b[38;5;66;03m# https://bugs.python.org/issue25942\u001b[39;00m\n\u001b[1;32m   1155\u001b[0m     \u001b[38;5;66;03m# See the detailed comment in .wait().\u001b[39;00m\n\u001b[1;32m   1156\u001b[0m     \u001b[38;5;28;01mif\u001b[39;00m timeout \u001b[38;5;129;01mis\u001b[39;00m \u001b[38;5;129;01mnot\u001b[39;00m \u001b[38;5;28;01mNone\u001b[39;00m:\n",
      "File \u001b[0;32m/Library/Frameworks/Python.framework/Versions/3.10/lib/python3.10/subprocess.py:2003\u001b[0m, in \u001b[0;36mPopen._communicate\u001b[0;34m(self, input, endtime, orig_timeout)\u001b[0m\n\u001b[1;32m   1996\u001b[0m     \u001b[38;5;28mself\u001b[39m\u001b[38;5;241m.\u001b[39m_check_timeout(endtime, orig_timeout,\n\u001b[1;32m   1997\u001b[0m                         stdout, stderr,\n\u001b[1;32m   1998\u001b[0m                         skip_check_and_raise\u001b[38;5;241m=\u001b[39m\u001b[38;5;28;01mTrue\u001b[39;00m)\n\u001b[1;32m   1999\u001b[0m     \u001b[38;5;28;01mraise\u001b[39;00m \u001b[38;5;167;01mRuntimeError\u001b[39;00m(  \u001b[38;5;66;03m# Impossible :)\u001b[39;00m\n\u001b[1;32m   2000\u001b[0m         \u001b[38;5;124m'\u001b[39m\u001b[38;5;124m_check_timeout(..., skip_check_and_raise=True) \u001b[39m\u001b[38;5;124m'\u001b[39m\n\u001b[1;32m   2001\u001b[0m         \u001b[38;5;124m'\u001b[39m\u001b[38;5;124mfailed to raise TimeoutExpired.\u001b[39m\u001b[38;5;124m'\u001b[39m)\n\u001b[0;32m-> 2003\u001b[0m ready \u001b[38;5;241m=\u001b[39m \u001b[43mselector\u001b[49m\u001b[38;5;241;43m.\u001b[39;49m\u001b[43mselect\u001b[49m\u001b[43m(\u001b[49m\u001b[43mtimeout\u001b[49m\u001b[43m)\u001b[49m\n\u001b[1;32m   2004\u001b[0m \u001b[38;5;28mself\u001b[39m\u001b[38;5;241m.\u001b[39m_check_timeout(endtime, orig_timeout, stdout, stderr)\n\u001b[1;32m   2006\u001b[0m \u001b[38;5;66;03m# XXX Rewrite these to use non-blocking I/O on the file\u001b[39;00m\n\u001b[1;32m   2007\u001b[0m \u001b[38;5;66;03m# objects; they are no longer using C stdio!\u001b[39;00m\n",
      "File \u001b[0;32m/Library/Frameworks/Python.framework/Versions/3.10/lib/python3.10/selectors.py:416\u001b[0m, in \u001b[0;36m_PollLikeSelector.select\u001b[0;34m(self, timeout)\u001b[0m\n\u001b[1;32m    414\u001b[0m ready \u001b[38;5;241m=\u001b[39m []\n\u001b[1;32m    415\u001b[0m \u001b[38;5;28;01mtry\u001b[39;00m:\n\u001b[0;32m--> 416\u001b[0m     fd_event_list \u001b[38;5;241m=\u001b[39m \u001b[38;5;28;43mself\u001b[39;49m\u001b[38;5;241;43m.\u001b[39;49m\u001b[43m_selector\u001b[49m\u001b[38;5;241;43m.\u001b[39;49m\u001b[43mpoll\u001b[49m\u001b[43m(\u001b[49m\u001b[43mtimeout\u001b[49m\u001b[43m)\u001b[49m\n\u001b[1;32m    417\u001b[0m \u001b[38;5;28;01mexcept\u001b[39;00m \u001b[38;5;167;01mInterruptedError\u001b[39;00m:\n\u001b[1;32m    418\u001b[0m     \u001b[38;5;28;01mreturn\u001b[39;00m ready\n",
      "\u001b[0;31mKeyboardInterrupt\u001b[0m: "
     ]
    }
   ],
   "source": [
    "print(run_tcs(sample_code, \"../datasets/codenet/public_test_cases/p00849/\", \"\"))"
   ]
  }
 ],
 "metadata": {
  "kernelspec": {
   "display_name": "Python 3 (ipykernel)",
   "language": "python",
   "name": "python3"
  },
  "language_info": {
   "codemirror_mode": {
    "name": "ipython",
    "version": 3
   },
   "file_extension": ".py",
   "mimetype": "text/x-python",
   "name": "python",
   "nbconvert_exporter": "python",
   "pygments_lexer": "ipython3",
   "version": "3.10.6"
  }
 },
 "nbformat": 4,
 "nbformat_minor": 5
}
